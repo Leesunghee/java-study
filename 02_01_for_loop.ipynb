{
  "cells": [
    {
      "metadata": {
        "trusted": true
      },
      "cell_type": "code",
      "source": "#List, Dict\nanimals = [\"강아지\", \"고양이\", \"이구아나\", \"물고기\", \"참새\" ]\nmy_informations = {\"name\": \"leesunghee\", \n                  \"phonenumber\": \"010-111-1111\", \n                  \"email\": \"test@gmail.com\",}\n\nfor animal in animals:\n    print(animal)",
      "execution_count": 3,
      "outputs": [
        {
          "output_type": "stream",
          "text": "강아지\n고양이\n이구아나\n물고기\n참새\n",
          "name": "stdout"
        }
      ]
    },
    {
      "metadata": {
        "trusted": true
      },
      "cell_type": "code",
      "source": "# Dict for loop\nfor my_information in my_informations:\n    print(my_information)\n    print(my_informations[my_information])",
      "execution_count": 2,
      "outputs": [
        {
          "output_type": "stream",
          "text": "name\nleesunghee\nphonenumber\n010-111-1111\nemail\ntest@gmail.com\n",
          "name": "stdout"
        }
      ]
    },
    {
      "metadata": {
        "trusted": false
      },
      "cell_type": "code",
      "source": "my_informations[\"name\"]",
      "execution_count": 7,
      "outputs": [
        {
          "data": {
            "text/plain": "'leesunghee'"
          },
          "execution_count": 7,
          "metadata": {},
          "output_type": "execute_result"
        }
      ]
    },
    {
      "metadata": {
        "trusted": false
      },
      "cell_type": "code",
      "source": "for my_information in my_informations.items():\n    key, value = my_information\n    print(key)\n    print(value)\n    \nfor key, value in my_informations.items():\n    print(key)\n    print(value)\n    \n    \n    ",
      "execution_count": 14,
      "outputs": [
        {
          "name": "stdout",
          "output_type": "stream",
          "text": "name\nleesunghee\nphonenumber\n010-111-1111\nemail\ntest@gmail.com\nname\nleesunghee\nphonenumber\n010-111-1111\nemail\ntest@gmail.com\n"
        }
      ]
    },
    {
      "metadata": {
        "trusted": false
      },
      "cell_type": "code",
      "source": "width_and_height = (120, 240)\nwidth, height = width_and_height",
      "execution_count": 12,
      "outputs": []
    },
    {
      "metadata": {
        "trusted": false
      },
      "cell_type": "code",
      "source": "my_informations.keys()",
      "execution_count": 17,
      "outputs": [
        {
          "data": {
            "text/plain": "dict_keys(['name', 'phonenumber', 'email'])"
          },
          "execution_count": 17,
          "metadata": {},
          "output_type": "execute_result"
        }
      ]
    },
    {
      "metadata": {
        "trusted": false
      },
      "cell_type": "code",
      "source": "animals = [\"강아지\", \"고양이\", \"이구아나\", \"물고기\", \"참새\"]\n\n# 하나씩 출력을 하는데, \n# index 가 2번인 애는 \"파이썬\" 으로 변경하자.\n\nfor i in range(len(animals)):\n    if i == 2:\n        animals[i] = \"파이썬\"\n    print(animals[i])",
      "execution_count": 19,
      "outputs": [
        {
          "name": "stdout",
          "output_type": "stream",
          "text": "강아지\n고양이\n파이썬\n물고기\n참새\n"
        }
      ]
    },
    {
      "metadata": {
        "trusted": false
      },
      "cell_type": "code",
      "source": "animals.index(\"강아지\")",
      "execution_count": 20,
      "outputs": [
        {
          "data": {
            "text/plain": "0"
          },
          "execution_count": 20,
          "metadata": {},
          "output_type": "execute_result"
        }
      ]
    },
    {
      "metadata": {
        "trusted": false
      },
      "cell_type": "code",
      "source": "animals = [\"강아지\", \"고양이\", \"이구아나\", \"물고기\", \"참새\"]\n\nfor animal in animals:\n    index = animals.index(animal)\n    if index == 2:\n        animals[index] = \"파이썬\"\n    print(animals[index])",
      "execution_count": 22,
      "outputs": [
        {
          "name": "stdout",
          "output_type": "stream",
          "text": "강아지\n고양이\n파이썬\n물고기\n참새\n"
        }
      ]
    },
    {
      "metadata": {
        "trusted": false
      },
      "cell_type": "code",
      "source": "for something in enumerate(animals):\n    print(something)",
      "execution_count": 23,
      "outputs": [
        {
          "name": "stdout",
          "output_type": "stream",
          "text": "(0, '강아지')\n(1, '고양이')\n(2, '파이썬')\n(3, '물고기')\n(4, '참새')\n"
        }
      ]
    },
    {
      "metadata": {
        "trusted": false
      },
      "cell_type": "code",
      "source": "for index, value in enumerate(animals):\n    print(index)\n    print(value)",
      "execution_count": 24,
      "outputs": [
        {
          "name": "stdout",
          "output_type": "stream",
          "text": "0\n강아지\n1\n고양이\n2\n파이썬\n3\n물고기\n4\n참새\n"
        }
      ]
    },
    {
      "metadata": {
        "trusted": false
      },
      "cell_type": "code",
      "source": "for index, value in enumerate(animals):\n    if index == 2:\n        animals[index] = \"파이썬\"\n    print(animals[index])",
      "execution_count": 26,
      "outputs": [
        {
          "name": "stdout",
          "output_type": "stream",
          "text": "강아지\n고양이\n파이썬\n물고기\n참새\n"
        }
      ]
    },
    {
      "metadata": {
        "trusted": false
      },
      "cell_type": "code",
      "source": "for index, _ in enumerate(animals):\n    if index == 2:\n        animals[index] = \"파이썬\"\n    print(animals[index])\n                  \n#파이썬에서 사용하지 않는 변수가 있는경우는 '_'를 사용하여 표시한다.\n                  ''",
      "execution_count": 2,
      "outputs": [
        {
          "ename": "IndentationError",
          "evalue": "unexpected indent (<ipython-input-2-8f1cf5ce535d>, line 7)",
          "output_type": "error",
          "traceback": [
            "\u001b[0;36m  File \u001b[0;32m\"<ipython-input-2-8f1cf5ce535d>\"\u001b[0;36m, line \u001b[0;32m7\u001b[0m\n\u001b[0;31m    ''\u001b[0m\n\u001b[0m    ^\u001b[0m\n\u001b[0;31mIndentationError\u001b[0m\u001b[0;31m:\u001b[0m unexpected indent\n"
          ]
        }
      ]
    },
    {
      "metadata": {
        "trusted": false
      },
      "cell_type": "code",
      "source": "list = [i for i in range(10) if i % 2 == 0]",
      "execution_count": 7,
      "outputs": []
    },
    {
      "metadata": {
        "trusted": false
      },
      "cell_type": "code",
      "source": "list",
      "execution_count": 8,
      "outputs": [
        {
          "data": {
            "text/plain": "[0, 2, 4, 6, 8]"
          },
          "execution_count": 8,
          "metadata": {},
          "output_type": "execute_result"
        }
      ]
    },
    {
      "metadata": {
        "trusted": false
      },
      "cell_type": "code",
      "source": "list = []\nfor i in range(10):\n    if i % 2 == 0:\n        \n    ",
      "execution_count": 11,
      "outputs": [
        {
          "ename": "SyntaxError",
          "evalue": "unexpected EOF while parsing (<ipython-input-11-6d644cbd5846>, line 5)",
          "output_type": "error",
          "traceback": [
            "\u001b[0;36m  File \u001b[0;32m\"<ipython-input-11-6d644cbd5846>\"\u001b[0;36m, line \u001b[0;32m5\u001b[0m\n\u001b[0;31m    \u001b[0m\n\u001b[0m    ^\u001b[0m\n\u001b[0;31mSyntaxError\u001b[0m\u001b[0;31m:\u001b[0m unexpected EOF while parsing\n"
          ]
        }
      ]
    },
    {
      "metadata": {
        "trusted": false
      },
      "cell_type": "code",
      "source": "for i in range(10):\n    print(i)",
      "execution_count": 12,
      "outputs": [
        {
          "name": "stdout",
          "output_type": "stream",
          "text": "0\n1\n2\n3\n4\n5\n6\n7\n8\n9\n"
        }
      ]
    },
    {
      "metadata": {
        "trusted": false
      },
      "cell_type": "code",
      "source": "for i in range(0, 10):\n    print(i)\n    ",
      "execution_count": 13,
      "outputs": [
        {
          "name": "stdout",
          "output_type": "stream",
          "text": "0\n1\n2\n3\n4\n5\n6\n7\n8\n9\n"
        }
      ]
    },
    {
      "metadata": {
        "trusted": false
      },
      "cell_type": "code",
      "source": "for i in range(0, 10, 2):\n    print(i)",
      "execution_count": 14,
      "outputs": [
        {
          "name": "stdout",
          "output_type": "stream",
          "text": "0\n2\n4\n6\n8\n"
        }
      ]
    },
    {
      "metadata": {
        "trusted": true
      },
      "cell_type": "code",
      "source": "for i in range(0, 2):\n    print(i)",
      "execution_count": 2,
      "outputs": [
        {
          "output_type": "stream",
          "text": "0\n1\n",
          "name": "stdout"
        }
      ]
    },
    {
      "metadata": {
        "trusted": true
      },
      "cell_type": "code",
      "source": "",
      "execution_count": null,
      "outputs": []
    }
  ],
  "metadata": {
    "kernelspec": {
      "name": "python36",
      "display_name": "Python 3.6",
      "language": "python"
    },
    "language_info": {
      "mimetype": "text/x-python",
      "nbconvert_exporter": "python",
      "name": "python",
      "pygments_lexer": "ipython3",
      "version": "3.6.6",
      "file_extension": ".py",
      "codemirror_mode": {
        "version": 3,
        "name": "ipython"
      }
    }
  },
  "nbformat": 4,
  "nbformat_minor": 2
}